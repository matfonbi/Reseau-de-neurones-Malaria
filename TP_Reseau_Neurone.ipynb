{
  "nbformat": 4,
  "nbformat_minor": 0,
  "metadata": {
    "colab": {
      "provenance": [],
      "gpuType": "T4",
      "authorship_tag": "ABX9TyPPPXimwZ5w2s0oohy0vhqv",
      "include_colab_link": true
    },
    "kernelspec": {
      "name": "python3",
      "display_name": "Python 3"
    },
    "language_info": {
      "name": "python"
    },
    "accelerator": "GPU"
  },
  "cells": [
    {
      "cell_type": "markdown",
      "metadata": {
        "id": "view-in-github",
        "colab_type": "text"
      },
      "source": [
        "<a href=\"https://colab.research.google.com/github/matfonbi/Reseau-de-neurones-Malaria/blob/main/TP_Reseau_Neurone.ipynb\" target=\"_parent\"><img src=\"https://colab.research.google.com/assets/colab-badge.svg\" alt=\"Open In Colab\"/></a>"
      ]
    },
    {
      "cell_type": "code",
      "execution_count": 1,
      "metadata": {
        "colab": {
          "base_uri": "https://localhost:8080/"
        },
        "id": "uefT15eXTXQC",
        "outputId": "7b95ddd0-9874-4a0b-aa40-0a800f33f0be"
      },
      "outputs": [
        {
          "output_type": "stream",
          "name": "stdout",
          "text": [
            "Mounted at /content/drive\n"
          ]
        }
      ],
      "source": [
        "from google.colab import drive\n",
        "import zipfile\n",
        "drive.mount('/content/drive', force_remount=True)"
      ]
    },
    {
      "cell_type": "markdown",
      "source": [],
      "metadata": {
        "id": "jTqlulieXReK"
      }
    },
    {
      "cell_type": "code",
      "source": [
        "zip_path = '/content/drive/My Drive/Colab_Notebooks/TP_reseau_neurone/malaria_hematie_dataset.zip'"
      ],
      "metadata": {
        "id": "YMKfwcBfXSiq"
      },
      "execution_count": 2,
      "outputs": []
    },
    {
      "cell_type": "code",
      "source": [
        "extract_path = '/content/dataset'"
      ],
      "metadata": {
        "id": "H8JrN2dZYMRp"
      },
      "execution_count": 3,
      "outputs": []
    },
    {
      "cell_type": "markdown",
      "source": [
        "Extraire le dataset"
      ],
      "metadata": {
        "id": "uPVLS--2YmNW"
      }
    },
    {
      "cell_type": "code",
      "source": [
        "with zipfile.ZipFile(zip_path, 'r') as zip_ref:\n",
        "    zip_ref.extractall(extract_path)\n",
        "print(\"Dataset extrait avec succès !\")"
      ],
      "metadata": {
        "colab": {
          "base_uri": "https://localhost:8080/"
        },
        "id": "dxCidBtrYioy",
        "outputId": "a9af0280-622f-4d79-f705-1ebb2bcc050c"
      },
      "execution_count": 4,
      "outputs": [
        {
          "output_type": "stream",
          "name": "stdout",
          "text": [
            "Dataset extrait avec succès !\n"
          ]
        }
      ]
    },
    {
      "cell_type": "code",
      "source": [
        "import os\n",
        "import shutil\n",
        "import random"
      ],
      "metadata": {
        "id": "9IkxhIdFYudh"
      },
      "execution_count": 5,
      "outputs": []
    },
    {
      "cell_type": "code",
      "source": [
        "original_dataset_path = '/content/dataset/malaria_hematie_dataset'\n",
        "output_path = '/content/splitted_dataset'"
      ],
      "metadata": {
        "id": "3wk_SyPaZyd7"
      },
      "execution_count": 6,
      "outputs": []
    },
    {
      "cell_type": "code",
      "source": [
        "train_ratio = 0.7\n",
        "val_ratio = 0.15\n",
        "test_ratio = 0.15"
      ],
      "metadata": {
        "id": "vjMvoNSOaVJD"
      },
      "execution_count": 7,
      "outputs": []
    },
    {
      "cell_type": "code",
      "source": [
        "for split in ['train', 'val', 'test']:\n",
        "    for category in ['parasitized', 'uninfected']:\n",
        "        os.makedirs(os.path.join(output_path, split, category), exist_ok=True)"
      ],
      "metadata": {
        "id": "7I-OaACradvr"
      },
      "execution_count": 8,
      "outputs": []
    },
    {
      "cell_type": "code",
      "source": [
        "def split_data(original_path, output_path, train_ratio, val_ratio, test_ratio):\n",
        "    for category in os.listdir(original_path):  # Parcourir les catégories (parasitized/uninfected)\n",
        "        category_path = os.path.join(original_path, category)\n",
        "\n",
        "        if os.path.isdir(category_path):  # Vérifie que c'est un dossier\n",
        "            # Récupérer la liste des fichiers\n",
        "            images = [f for f in os.listdir(category_path) if os.path.isfile(os.path.join(category_path, f))]\n",
        "            random.shuffle(images)  # Mélanger les fichiers aléatoirement\n",
        "\n",
        "            # Calculer les indices pour la division\n",
        "            train_count = int(len(images) * train_ratio)\n",
        "            val_count = int(len(images) * val_ratio)\n",
        "\n",
        "            # Diviser les images\n",
        "            train_images = images[:train_count]\n",
        "            val_images = images[train_count:train_count + val_count]\n",
        "            test_images = images[train_count + val_count:]\n",
        "\n",
        "            # Copier les fichiers dans les sous-dossiers appropriés\n",
        "            for image in train_images:\n",
        "                shutil.copy(os.path.join(category_path, image), os.path.join(output_path, 'train', category, image))\n",
        "            for image in val_images:\n",
        "                shutil.copy(os.path.join(category_path, image), os.path.join(output_path, 'val', category, image))\n",
        "            for image in test_images:\n",
        "                shutil.copy(os.path.join(category_path, image), os.path.join(output_path, 'test', category, image))"
      ],
      "metadata": {
        "id": "yO69U_gad6F1"
      },
      "execution_count": 9,
      "outputs": []
    },
    {
      "cell_type": "code",
      "source": [
        "split_data(original_dataset_path, output_path, train_ratio, val_ratio, test_ratio)\n",
        "print(\"Les données ont été divisées et enregistrées dans le dossier :\", output_path)"
      ],
      "metadata": {
        "colab": {
          "base_uri": "https://localhost:8080/"
        },
        "id": "dx5szKC4e1I0",
        "outputId": "640e76dd-6bf5-4fa8-e8f9-cb3e9a33223d"
      },
      "execution_count": 10,
      "outputs": [
        {
          "output_type": "stream",
          "name": "stdout",
          "text": [
            "Les données ont été divisées et enregistrées dans le dossier : /content/splitted_dataset\n"
          ]
        }
      ]
    },
    {
      "cell_type": "code",
      "source": [
        "# Vérifier le nombre de fichiers dans chaque sous-dossier\n",
        "for split in ['train', 'val', 'test']:\n",
        "    for category in ['parasitized', 'uninfected']:\n",
        "        path = os.path.join(output_path, split, category)\n",
        "        print(f\"{split}/{category} : {len(os.listdir(path))} images\")\n"
      ],
      "metadata": {
        "colab": {
          "base_uri": "https://localhost:8080/"
        },
        "id": "pTh1y8KgfK2t",
        "outputId": "714463b6-d6df-4499-d1ec-77abbe92e953"
      },
      "execution_count": 11,
      "outputs": [
        {
          "output_type": "stream",
          "name": "stdout",
          "text": [
            "train/parasitized : 9645 images\n",
            "train/uninfected : 9645 images\n",
            "val/parasitized : 2066 images\n",
            "val/uninfected : 2066 images\n",
            "test/parasitized : 2068 images\n",
            "test/uninfected : 2068 images\n"
          ]
        }
      ]
    },
    {
      "cell_type": "code",
      "source": [
        "import tensorflow as tf\n",
        "from tensorflow.keras.preprocessing.image import ImageDataGenerator"
      ],
      "metadata": {
        "id": "jCZM-HUeigrY"
      },
      "execution_count": 12,
      "outputs": []
    },
    {
      "cell_type": "code",
      "source": [
        "train_dir = '/content/splitted_dataset/train'\n",
        "val_dir = '/content/splitted_dataset/val'\n",
        "test_dir = '/content/splitted_dataset/test'"
      ],
      "metadata": {
        "id": "rcTPuv4HihbZ"
      },
      "execution_count": 13,
      "outputs": []
    },
    {
      "cell_type": "code",
      "source": [
        "IMG_SIZE = (128, 128)\n",
        "BATCH_SIZE = 32"
      ],
      "metadata": {
        "id": "Y8osuMbNikEt"
      },
      "execution_count": 14,
      "outputs": []
    },
    {
      "cell_type": "markdown",
      "source": [
        "Normalisation"
      ],
      "metadata": {
        "id": "ABFN5v1EiwjL"
      }
    },
    {
      "cell_type": "code",
      "source": [
        "train_datagen = ImageDataGenerator(rescale=1./255,\n",
        "                                   rotation_range=30,\n",
        "                                   width_shift_range=0.2,\n",
        "                                   height_shift_range=0.2,\n",
        "                                   zoom_range=0.2,\n",
        "                                   horizontal_flip=True,\n",
        "                                   brightness_range=[0.8, 1.2],\n",
        "                                   fill_mode='nearest')\n",
        "val_datagen = ImageDataGenerator(rescale=1./255)\n",
        "test_datagen = ImageDataGenerator(rescale=1./255)"
      ],
      "metadata": {
        "id": "SE9CObFPisnh"
      },
      "execution_count": 15,
      "outputs": []
    },
    {
      "cell_type": "code",
      "source": [
        "train_data = train_datagen.flow_from_directory(\n",
        "    train_dir,\n",
        "    target_size=IMG_SIZE,\n",
        "    batch_size=BATCH_SIZE,\n",
        "    class_mode='binary',\n",
        "    shuffle=True\n",
        ")"
      ],
      "metadata": {
        "colab": {
          "base_uri": "https://localhost:8080/"
        },
        "id": "vI5Gabmai1f-",
        "outputId": "33381ca9-40ca-49ce-ac7c-063f9838a539"
      },
      "execution_count": 16,
      "outputs": [
        {
          "output_type": "stream",
          "name": "stdout",
          "text": [
            "Found 19290 images belonging to 2 classes.\n"
          ]
        }
      ]
    },
    {
      "cell_type": "code",
      "source": [
        "val_data = val_datagen.flow_from_directory(\n",
        "    val_dir,\n",
        "    target_size=IMG_SIZE,\n",
        "    batch_size=BATCH_SIZE,\n",
        "    class_mode='binary'\n",
        ")"
      ],
      "metadata": {
        "colab": {
          "base_uri": "https://localhost:8080/"
        },
        "id": "TmT-MWv1i5H6",
        "outputId": "b9f9e972-75a4-4c2c-fd4d-6a57e4e1a899"
      },
      "execution_count": 17,
      "outputs": [
        {
          "output_type": "stream",
          "name": "stdout",
          "text": [
            "Found 4132 images belonging to 2 classes.\n"
          ]
        }
      ]
    },
    {
      "cell_type": "code",
      "source": [
        "test_data = test_datagen.flow_from_directory(\n",
        "    test_dir,\n",
        "    target_size=IMG_SIZE,\n",
        "    batch_size=BATCH_SIZE,\n",
        "    class_mode='binary'\n",
        ")"
      ],
      "metadata": {
        "colab": {
          "base_uri": "https://localhost:8080/"
        },
        "id": "mxyFvVRXi7MU",
        "outputId": "2174bce0-a510-46b4-ad3d-235a1617371c"
      },
      "execution_count": 18,
      "outputs": [
        {
          "output_type": "stream",
          "name": "stdout",
          "text": [
            "Found 4136 images belonging to 2 classes.\n"
          ]
        }
      ]
    },
    {
      "cell_type": "markdown",
      "source": [
        "Verification du resultat"
      ],
      "metadata": {
        "id": "Wqo984AzjKr1"
      }
    },
    {
      "cell_type": "code",
      "source": [
        "# Obtenir un batch d'images et leurs labels\n",
        "images, labels = next(train_data)\n",
        "\n",
        "# Vérifier les valeurs minimum et maximum\n",
        "print(f\"Valeur minimale : {images[0].min()}, Valeur maximale : {images[0].max()}\")\n",
        "\n"
      ],
      "metadata": {
        "colab": {
          "base_uri": "https://localhost:8080/"
        },
        "collapsed": true,
        "id": "UxPbwqbyjM5v",
        "outputId": "ec8d5d13-091a-4169-a719-b225ec0d2ce0"
      },
      "execution_count": 19,
      "outputs": [
        {
          "output_type": "stream",
          "name": "stdout",
          "text": [
            "Valeur minimale : 0.0, Valeur maximale : 1.0\n"
          ]
        }
      ]
    },
    {
      "cell_type": "code",
      "source": [
        "from tensorflow.keras import Sequential, layers"
      ],
      "metadata": {
        "id": "4-nfASPzkQu2"
      },
      "execution_count": 20,
      "outputs": []
    },
    {
      "cell_type": "code",
      "source": [
        "mon_premier_cnn = Sequential([\n",
        "    # Couche d'entrée\n",
        "    layers.Input(shape=(128, 128, 3)),  # Images 128x128 en RGB (3 canaux)\n",
        "\n",
        "    # Première couche convolutive + pooling\n",
        "    layers.Conv2D(128, kernel_size=(3, 3), strides=(1, 1), activation='relu'),\n",
        "    layers.MaxPool2D(pool_size=(2, 2)),\n",
        "\n",
        "    # Deuxième couche convolutive + pooling\n",
        "    layers.Conv2D(128, kernel_size=(3, 3), strides=(1, 1), activation='relu'),\n",
        "    layers.MaxPool2D(pool_size=(2, 2)),\n",
        "\n",
        "    # Couche Flatten\n",
        "    layers.Flatten(),\n",
        "\n",
        "    # Couche fully connected\n",
        "    layers.Dense(128, activation='relu'),\n",
        "\n",
        "    layers.Dropout(0.2),\n",
        "    # Couche de sortie (binaire)\n",
        "    layers.Dense(1, activation='sigmoid')  # Pour une classification binaire\n",
        "])\n"
      ],
      "metadata": {
        "id": "dmnWN47vn09Q"
      },
      "execution_count": 21,
      "outputs": []
    },
    {
      "cell_type": "code",
      "source": [
        "mon_premier_cnn.summary()"
      ],
      "metadata": {
        "colab": {
          "base_uri": "https://localhost:8080/",
          "height": 385
        },
        "id": "pZNRLxyhoOSj",
        "outputId": "88c41b54-06fc-4e57-a1da-5fc2ee27c9e3"
      },
      "execution_count": 22,
      "outputs": [
        {
          "output_type": "display_data",
          "data": {
            "text/plain": [
              "\u001b[1mModel: \"sequential\"\u001b[0m\n"
            ],
            "text/html": [
              "<pre style=\"white-space:pre;overflow-x:auto;line-height:normal;font-family:Menlo,'DejaVu Sans Mono',consolas,'Courier New',monospace\"><span style=\"font-weight: bold\">Model: \"sequential\"</span>\n",
              "</pre>\n"
            ]
          },
          "metadata": {}
        },
        {
          "output_type": "display_data",
          "data": {
            "text/plain": [
              "┏━━━━━━━━━━━━━━━━━━━━━━━━━━━━━━━━━━━━━━┳━━━━━━━━━━━━━━━━━━━━━━━━━━━━━┳━━━━━━━━━━━━━━━━━┓\n",
              "┃\u001b[1m \u001b[0m\u001b[1mLayer (type)                        \u001b[0m\u001b[1m \u001b[0m┃\u001b[1m \u001b[0m\u001b[1mOutput Shape               \u001b[0m\u001b[1m \u001b[0m┃\u001b[1m \u001b[0m\u001b[1m        Param #\u001b[0m\u001b[1m \u001b[0m┃\n",
              "┡━━━━━━━━━━━━━━━━━━━━━━━━━━━━━━━━━━━━━━╇━━━━━━━━━━━━━━━━━━━━━━━━━━━━━╇━━━━━━━━━━━━━━━━━┩\n",
              "│ conv2d (\u001b[38;5;33mConv2D\u001b[0m)                      │ (\u001b[38;5;45mNone\u001b[0m, \u001b[38;5;34m126\u001b[0m, \u001b[38;5;34m126\u001b[0m, \u001b[38;5;34m128\u001b[0m)       │           \u001b[38;5;34m3,584\u001b[0m │\n",
              "├──────────────────────────────────────┼─────────────────────────────┼─────────────────┤\n",
              "│ max_pooling2d (\u001b[38;5;33mMaxPooling2D\u001b[0m)         │ (\u001b[38;5;45mNone\u001b[0m, \u001b[38;5;34m63\u001b[0m, \u001b[38;5;34m63\u001b[0m, \u001b[38;5;34m128\u001b[0m)         │               \u001b[38;5;34m0\u001b[0m │\n",
              "├──────────────────────────────────────┼─────────────────────────────┼─────────────────┤\n",
              "│ conv2d_1 (\u001b[38;5;33mConv2D\u001b[0m)                    │ (\u001b[38;5;45mNone\u001b[0m, \u001b[38;5;34m61\u001b[0m, \u001b[38;5;34m61\u001b[0m, \u001b[38;5;34m128\u001b[0m)         │         \u001b[38;5;34m147,584\u001b[0m │\n",
              "├──────────────────────────────────────┼─────────────────────────────┼─────────────────┤\n",
              "│ max_pooling2d_1 (\u001b[38;5;33mMaxPooling2D\u001b[0m)       │ (\u001b[38;5;45mNone\u001b[0m, \u001b[38;5;34m30\u001b[0m, \u001b[38;5;34m30\u001b[0m, \u001b[38;5;34m128\u001b[0m)         │               \u001b[38;5;34m0\u001b[0m │\n",
              "├──────────────────────────────────────┼─────────────────────────────┼─────────────────┤\n",
              "│ flatten (\u001b[38;5;33mFlatten\u001b[0m)                    │ (\u001b[38;5;45mNone\u001b[0m, \u001b[38;5;34m115200\u001b[0m)              │               \u001b[38;5;34m0\u001b[0m │\n",
              "├──────────────────────────────────────┼─────────────────────────────┼─────────────────┤\n",
              "│ dense (\u001b[38;5;33mDense\u001b[0m)                        │ (\u001b[38;5;45mNone\u001b[0m, \u001b[38;5;34m128\u001b[0m)                 │      \u001b[38;5;34m14,745,728\u001b[0m │\n",
              "├──────────────────────────────────────┼─────────────────────────────┼─────────────────┤\n",
              "│ dropout (\u001b[38;5;33mDropout\u001b[0m)                    │ (\u001b[38;5;45mNone\u001b[0m, \u001b[38;5;34m128\u001b[0m)                 │               \u001b[38;5;34m0\u001b[0m │\n",
              "├──────────────────────────────────────┼─────────────────────────────┼─────────────────┤\n",
              "│ dense_1 (\u001b[38;5;33mDense\u001b[0m)                      │ (\u001b[38;5;45mNone\u001b[0m, \u001b[38;5;34m1\u001b[0m)                   │             \u001b[38;5;34m129\u001b[0m │\n",
              "└──────────────────────────────────────┴─────────────────────────────┴─────────────────┘\n"
            ],
            "text/html": [
              "<pre style=\"white-space:pre;overflow-x:auto;line-height:normal;font-family:Menlo,'DejaVu Sans Mono',consolas,'Courier New',monospace\">┏━━━━━━━━━━━━━━━━━━━━━━━━━━━━━━━━━━━━━━┳━━━━━━━━━━━━━━━━━━━━━━━━━━━━━┳━━━━━━━━━━━━━━━━━┓\n",
              "┃<span style=\"font-weight: bold\"> Layer (type)                         </span>┃<span style=\"font-weight: bold\"> Output Shape                </span>┃<span style=\"font-weight: bold\">         Param # </span>┃\n",
              "┡━━━━━━━━━━━━━━━━━━━━━━━━━━━━━━━━━━━━━━╇━━━━━━━━━━━━━━━━━━━━━━━━━━━━━╇━━━━━━━━━━━━━━━━━┩\n",
              "│ conv2d (<span style=\"color: #0087ff; text-decoration-color: #0087ff\">Conv2D</span>)                      │ (<span style=\"color: #00d7ff; text-decoration-color: #00d7ff\">None</span>, <span style=\"color: #00af00; text-decoration-color: #00af00\">126</span>, <span style=\"color: #00af00; text-decoration-color: #00af00\">126</span>, <span style=\"color: #00af00; text-decoration-color: #00af00\">128</span>)       │           <span style=\"color: #00af00; text-decoration-color: #00af00\">3,584</span> │\n",
              "├──────────────────────────────────────┼─────────────────────────────┼─────────────────┤\n",
              "│ max_pooling2d (<span style=\"color: #0087ff; text-decoration-color: #0087ff\">MaxPooling2D</span>)         │ (<span style=\"color: #00d7ff; text-decoration-color: #00d7ff\">None</span>, <span style=\"color: #00af00; text-decoration-color: #00af00\">63</span>, <span style=\"color: #00af00; text-decoration-color: #00af00\">63</span>, <span style=\"color: #00af00; text-decoration-color: #00af00\">128</span>)         │               <span style=\"color: #00af00; text-decoration-color: #00af00\">0</span> │\n",
              "├──────────────────────────────────────┼─────────────────────────────┼─────────────────┤\n",
              "│ conv2d_1 (<span style=\"color: #0087ff; text-decoration-color: #0087ff\">Conv2D</span>)                    │ (<span style=\"color: #00d7ff; text-decoration-color: #00d7ff\">None</span>, <span style=\"color: #00af00; text-decoration-color: #00af00\">61</span>, <span style=\"color: #00af00; text-decoration-color: #00af00\">61</span>, <span style=\"color: #00af00; text-decoration-color: #00af00\">128</span>)         │         <span style=\"color: #00af00; text-decoration-color: #00af00\">147,584</span> │\n",
              "├──────────────────────────────────────┼─────────────────────────────┼─────────────────┤\n",
              "│ max_pooling2d_1 (<span style=\"color: #0087ff; text-decoration-color: #0087ff\">MaxPooling2D</span>)       │ (<span style=\"color: #00d7ff; text-decoration-color: #00d7ff\">None</span>, <span style=\"color: #00af00; text-decoration-color: #00af00\">30</span>, <span style=\"color: #00af00; text-decoration-color: #00af00\">30</span>, <span style=\"color: #00af00; text-decoration-color: #00af00\">128</span>)         │               <span style=\"color: #00af00; text-decoration-color: #00af00\">0</span> │\n",
              "├──────────────────────────────────────┼─────────────────────────────┼─────────────────┤\n",
              "│ flatten (<span style=\"color: #0087ff; text-decoration-color: #0087ff\">Flatten</span>)                    │ (<span style=\"color: #00d7ff; text-decoration-color: #00d7ff\">None</span>, <span style=\"color: #00af00; text-decoration-color: #00af00\">115200</span>)              │               <span style=\"color: #00af00; text-decoration-color: #00af00\">0</span> │\n",
              "├──────────────────────────────────────┼─────────────────────────────┼─────────────────┤\n",
              "│ dense (<span style=\"color: #0087ff; text-decoration-color: #0087ff\">Dense</span>)                        │ (<span style=\"color: #00d7ff; text-decoration-color: #00d7ff\">None</span>, <span style=\"color: #00af00; text-decoration-color: #00af00\">128</span>)                 │      <span style=\"color: #00af00; text-decoration-color: #00af00\">14,745,728</span> │\n",
              "├──────────────────────────────────────┼─────────────────────────────┼─────────────────┤\n",
              "│ dropout (<span style=\"color: #0087ff; text-decoration-color: #0087ff\">Dropout</span>)                    │ (<span style=\"color: #00d7ff; text-decoration-color: #00d7ff\">None</span>, <span style=\"color: #00af00; text-decoration-color: #00af00\">128</span>)                 │               <span style=\"color: #00af00; text-decoration-color: #00af00\">0</span> │\n",
              "├──────────────────────────────────────┼─────────────────────────────┼─────────────────┤\n",
              "│ dense_1 (<span style=\"color: #0087ff; text-decoration-color: #0087ff\">Dense</span>)                      │ (<span style=\"color: #00d7ff; text-decoration-color: #00d7ff\">None</span>, <span style=\"color: #00af00; text-decoration-color: #00af00\">1</span>)                   │             <span style=\"color: #00af00; text-decoration-color: #00af00\">129</span> │\n",
              "└──────────────────────────────────────┴─────────────────────────────┴─────────────────┘\n",
              "</pre>\n"
            ]
          },
          "metadata": {}
        },
        {
          "output_type": "display_data",
          "data": {
            "text/plain": [
              "\u001b[1m Total params: \u001b[0m\u001b[38;5;34m14,897,025\u001b[0m (56.83 MB)\n"
            ],
            "text/html": [
              "<pre style=\"white-space:pre;overflow-x:auto;line-height:normal;font-family:Menlo,'DejaVu Sans Mono',consolas,'Courier New',monospace\"><span style=\"font-weight: bold\"> Total params: </span><span style=\"color: #00af00; text-decoration-color: #00af00\">14,897,025</span> (56.83 MB)\n",
              "</pre>\n"
            ]
          },
          "metadata": {}
        },
        {
          "output_type": "display_data",
          "data": {
            "text/plain": [
              "\u001b[1m Trainable params: \u001b[0m\u001b[38;5;34m14,897,025\u001b[0m (56.83 MB)\n"
            ],
            "text/html": [
              "<pre style=\"white-space:pre;overflow-x:auto;line-height:normal;font-family:Menlo,'DejaVu Sans Mono',consolas,'Courier New',monospace\"><span style=\"font-weight: bold\"> Trainable params: </span><span style=\"color: #00af00; text-decoration-color: #00af00\">14,897,025</span> (56.83 MB)\n",
              "</pre>\n"
            ]
          },
          "metadata": {}
        },
        {
          "output_type": "display_data",
          "data": {
            "text/plain": [
              "\u001b[1m Non-trainable params: \u001b[0m\u001b[38;5;34m0\u001b[0m (0.00 B)\n"
            ],
            "text/html": [
              "<pre style=\"white-space:pre;overflow-x:auto;line-height:normal;font-family:Menlo,'DejaVu Sans Mono',consolas,'Courier New',monospace\"><span style=\"font-weight: bold\"> Non-trainable params: </span><span style=\"color: #00af00; text-decoration-color: #00af00\">0</span> (0.00 B)\n",
              "</pre>\n"
            ]
          },
          "metadata": {}
        }
      ]
    },
    {
      "cell_type": "code",
      "source": [
        "import numpy as np\n",
        "from tensorflow.keras.callbacks import LearningRateScheduler, EarlyStopping\n",
        "from tensorflow import keras"
      ],
      "metadata": {
        "id": "p3v_3kxkuXqg"
      },
      "execution_count": 23,
      "outputs": []
    },
    {
      "cell_type": "code",
      "source": [
        "def scheduler(epoch, lr):\n",
        "    if epoch < 3:  # Pendant les 5 premières époques, garder le taux d'apprentissage initial\n",
        "        return lr\n",
        "    else:  # Ensuite, diminuer le taux d'apprentissage\n",
        "        return lr * np.exp(-0.1)\n",
        "\n",
        "lr_decay = LearningRateScheduler(scheduler)"
      ],
      "metadata": {
        "id": "YNednt8oudd-"
      },
      "execution_count": 24,
      "outputs": []
    },
    {
      "cell_type": "code",
      "source": [
        "early_stopping = EarlyStopping(\n",
        "    monitor=\"val_loss\",  # Surveiller la perte de validation\n",
        "    patience=5,  # Arrêter après 5 époques sans amélioration\n",
        "    restore_best_weights=True  # Restaurer les poids du meilleur modèle\n",
        ")"
      ],
      "metadata": {
        "id": "rANm4HPouguR"
      },
      "execution_count": 25,
      "outputs": []
    },
    {
      "cell_type": "code",
      "source": [
        "mon_premier_cnn.compile(\n",
        "    loss=\"binary_crossentropy\",  # Pour la classification binaire\n",
        "    optimizer=keras.optimizers.Adam(learning_rate=0.0001),  # Optimiseur Adam\n",
        "    metrics=[\"accuracy\"]\n",
        ")"
      ],
      "metadata": {
        "id": "AyP3tVupsmKm"
      },
      "execution_count": 26,
      "outputs": []
    },
    {
      "cell_type": "code",
      "source": [
        "history_cnn = mon_premier_cnn.fit(\n",
        "    train_data,  # Données d'entraînement\n",
        "    validation_data=val_data,  # Données de validation\n",
        "    epochs=100,  # Nombre maximum d'époques\n",
        "    callbacks=[lr_decay, early_stopping]  # Ajouter les callbacks ici\n",
        ")"
      ],
      "metadata": {
        "colab": {
          "base_uri": "https://localhost:8080/"
        },
        "id": "hqFOi95Dsv1z",
        "outputId": "64565d9b-e54e-4150-f72a-c813145c6b01"
      },
      "execution_count": null,
      "outputs": [
        {
          "output_type": "stream",
          "name": "stderr",
          "text": [
            "/usr/local/lib/python3.11/dist-packages/keras/src/trainers/data_adapters/py_dataset_adapter.py:121: UserWarning: Your `PyDataset` class should call `super().__init__(**kwargs)` in its constructor. `**kwargs` can include `workers`, `use_multiprocessing`, `max_queue_size`. Do not pass these arguments to `fit()`, as they will be ignored.\n",
            "  self._warn_if_super_not_called()\n"
          ]
        },
        {
          "output_type": "stream",
          "name": "stdout",
          "text": [
            "Epoch 1/100\n",
            "\u001b[1m603/603\u001b[0m \u001b[32m━━━━━━━━━━━━━━━━━━━━\u001b[0m\u001b[37m\u001b[0m \u001b[1m148s\u001b[0m 233ms/step - accuracy: 0.6242 - loss: 0.6515 - val_accuracy: 0.7885 - val_loss: 0.5418 - learning_rate: 1.0000e-04\n",
            "Epoch 2/100\n",
            "\u001b[1m603/603\u001b[0m \u001b[32m━━━━━━━━━━━━━━━━━━━━\u001b[0m\u001b[37m\u001b[0m \u001b[1m139s\u001b[0m 231ms/step - accuracy: 0.7900 - loss: 0.5003 - val_accuracy: 0.9112 - val_loss: 0.3007 - learning_rate: 1.0000e-04\n",
            "Epoch 3/100\n",
            "\u001b[1m603/603\u001b[0m \u001b[32m━━━━━━━━━━━━━━━━━━━━\u001b[0m\u001b[37m\u001b[0m \u001b[1m136s\u001b[0m 225ms/step - accuracy: 0.8723 - loss: 0.3466 - val_accuracy: 0.9095 - val_loss: 0.2306 - learning_rate: 1.0000e-04\n",
            "Epoch 4/100\n",
            "\u001b[1m603/603\u001b[0m \u001b[32m━━━━━━━━━━━━━━━━━━━━\u001b[0m\u001b[37m\u001b[0m \u001b[1m136s\u001b[0m 226ms/step - accuracy: 0.8838 - loss: 0.3084 - val_accuracy: 0.9197 - val_loss: 0.2031 - learning_rate: 9.0484e-05\n",
            "Epoch 5/100\n",
            "\u001b[1m603/603\u001b[0m \u001b[32m━━━━━━━━━━━━━━━━━━━━\u001b[0m\u001b[37m\u001b[0m \u001b[1m137s\u001b[0m 227ms/step - accuracy: 0.8921 - loss: 0.2906 - val_accuracy: 0.9250 - val_loss: 0.1988 - learning_rate: 8.1873e-05\n",
            "Epoch 6/100\n",
            "\u001b[1m603/603\u001b[0m \u001b[32m━━━━━━━━━━━━━━━━━━━━\u001b[0m\u001b[37m\u001b[0m \u001b[1m145s\u001b[0m 241ms/step - accuracy: 0.8981 - loss: 0.2835 - val_accuracy: 0.9301 - val_loss: 0.1840 - learning_rate: 7.4082e-05\n",
            "Epoch 7/100\n",
            "\u001b[1m603/603\u001b[0m \u001b[32m━━━━━━━━━━━━━━━━━━━━\u001b[0m\u001b[37m\u001b[0m \u001b[1m151s\u001b[0m 250ms/step - accuracy: 0.9038 - loss: 0.2605 - val_accuracy: 0.9213 - val_loss: 0.1841 - learning_rate: 6.7032e-05\n",
            "Epoch 8/100\n",
            "\u001b[1m603/603\u001b[0m \u001b[32m━━━━━━━━━━━━━━━━━━━━\u001b[0m\u001b[37m\u001b[0m \u001b[1m189s\u001b[0m 229ms/step - accuracy: 0.9017 - loss: 0.2676 - val_accuracy: 0.9342 - val_loss: 0.1740 - learning_rate: 6.0653e-05\n",
            "Epoch 9/100\n",
            "\u001b[1m603/603\u001b[0m \u001b[32m━━━━━━━━━━━━━━━━━━━━\u001b[0m\u001b[37m\u001b[0m \u001b[1m142s\u001b[0m 235ms/step - accuracy: 0.9051 - loss: 0.2647 - val_accuracy: 0.9313 - val_loss: 0.1876 - learning_rate: 5.4881e-05\n",
            "Epoch 10/100\n",
            "\u001b[1m603/603\u001b[0m \u001b[32m━━━━━━━━━━━━━━━━━━━━\u001b[0m\u001b[37m\u001b[0m \u001b[1m138s\u001b[0m 228ms/step - accuracy: 0.9050 - loss: 0.2617 - val_accuracy: 0.9359 - val_loss: 0.1687 - learning_rate: 4.9659e-05\n",
            "Epoch 11/100\n",
            "\u001b[1m603/603\u001b[0m \u001b[32m━━━━━━━━━━━━━━━━━━━━\u001b[0m\u001b[37m\u001b[0m \u001b[1m138s\u001b[0m 228ms/step - accuracy: 0.9082 - loss: 0.2461 - val_accuracy: 0.9393 - val_loss: 0.1627 - learning_rate: 4.4933e-05\n",
            "Epoch 12/100\n",
            "\u001b[1m603/603\u001b[0m \u001b[32m━━━━━━━━━━━━━━━━━━━━\u001b[0m\u001b[37m\u001b[0m \u001b[1m141s\u001b[0m 227ms/step - accuracy: 0.9109 - loss: 0.2467 - val_accuracy: 0.9412 - val_loss: 0.1653 - learning_rate: 4.0657e-05\n",
            "Epoch 13/100\n",
            "\u001b[1m603/603\u001b[0m \u001b[32m━━━━━━━━━━━━━━━━━━━━\u001b[0m\u001b[37m\u001b[0m \u001b[1m138s\u001b[0m 229ms/step - accuracy: 0.9124 - loss: 0.2413 - val_accuracy: 0.9376 - val_loss: 0.1660 - learning_rate: 3.6788e-05\n",
            "Epoch 14/100\n",
            "\u001b[1m603/603\u001b[0m \u001b[32m━━━━━━━━━━━━━━━━━━━━\u001b[0m\u001b[37m\u001b[0m \u001b[1m141s\u001b[0m 227ms/step - accuracy: 0.9098 - loss: 0.2414 - val_accuracy: 0.9393 - val_loss: 0.1610 - learning_rate: 3.3287e-05\n",
            "Epoch 15/100\n",
            "\u001b[1m603/603\u001b[0m \u001b[32m━━━━━━━━━━━━━━━━━━━━\u001b[0m\u001b[37m\u001b[0m \u001b[1m149s\u001b[0m 239ms/step - accuracy: 0.9113 - loss: 0.2419 - val_accuracy: 0.9414 - val_loss: 0.1637 - learning_rate: 3.0119e-05\n",
            "Epoch 16/100\n",
            "\u001b[1m603/603\u001b[0m \u001b[32m━━━━━━━━━━━━━━━━━━━━\u001b[0m\u001b[37m\u001b[0m \u001b[1m196s\u001b[0m 229ms/step - accuracy: 0.9128 - loss: 0.2342 - val_accuracy: 0.9441 - val_loss: 0.1548 - learning_rate: 2.7253e-05\n",
            "Epoch 17/100\n",
            "\u001b[1m603/603\u001b[0m \u001b[32m━━━━━━━━━━━━━━━━━━━━\u001b[0m\u001b[37m\u001b[0m \u001b[1m137s\u001b[0m 227ms/step - accuracy: 0.9122 - loss: 0.2333 - val_accuracy: 0.9426 - val_loss: 0.1625 - learning_rate: 2.4660e-05\n",
            "Epoch 18/100\n",
            "\u001b[1m603/603\u001b[0m \u001b[32m━━━━━━━━━━━━━━━━━━━━\u001b[0m\u001b[37m\u001b[0m \u001b[1m136s\u001b[0m 226ms/step - accuracy: 0.9133 - loss: 0.2404 - val_accuracy: 0.9424 - val_loss: 0.1578 - learning_rate: 2.2313e-05\n",
            "Epoch 19/100\n",
            "\u001b[1m603/603\u001b[0m \u001b[32m━━━━━━━━━━━━━━━━━━━━\u001b[0m\u001b[37m\u001b[0m \u001b[1m137s\u001b[0m 227ms/step - accuracy: 0.9161 - loss: 0.2327 - val_accuracy: 0.9426 - val_loss: 0.1576 - learning_rate: 2.0190e-05\n",
            "Epoch 20/100\n",
            "\u001b[1m603/603\u001b[0m \u001b[32m━━━━━━━━━━━━━━━━━━━━\u001b[0m\u001b[37m\u001b[0m \u001b[1m136s\u001b[0m 225ms/step - accuracy: 0.9107 - loss: 0.2369 - val_accuracy: 0.9431 - val_loss: 0.1534 - learning_rate: 1.8268e-05\n",
            "Epoch 21/100\n",
            "\u001b[1m603/603\u001b[0m \u001b[32m━━━━━━━━━━━━━━━━━━━━\u001b[0m\u001b[37m\u001b[0m \u001b[1m136s\u001b[0m 226ms/step - accuracy: 0.9111 - loss: 0.2379 - val_accuracy: 0.9429 - val_loss: 0.1589 - learning_rate: 1.6530e-05\n",
            "Epoch 22/100\n",
            "\u001b[1m603/603\u001b[0m \u001b[32m━━━━━━━━━━━━━━━━━━━━\u001b[0m\u001b[37m\u001b[0m \u001b[1m137s\u001b[0m 226ms/step - accuracy: 0.9142 - loss: 0.2300 - val_accuracy: 0.9441 - val_loss: 0.1539 - learning_rate: 1.4957e-05\n",
            "Epoch 23/100\n",
            "\u001b[1m603/603\u001b[0m \u001b[32m━━━━━━━━━━━━━━━━━━━━\u001b[0m\u001b[37m\u001b[0m \u001b[1m145s\u001b[0m 241ms/step - accuracy: 0.9147 - loss: 0.2368 - val_accuracy: 0.9426 - val_loss: 0.1567 - learning_rate: 1.3534e-05\n",
            "Epoch 24/100\n",
            "\u001b[1m603/603\u001b[0m \u001b[32m━━━━━━━━━━━━━━━━━━━━\u001b[0m\u001b[37m\u001b[0m \u001b[1m137s\u001b[0m 228ms/step - accuracy: 0.9164 - loss: 0.2264 - val_accuracy: 0.9434 - val_loss: 0.1581 - learning_rate: 1.2246e-05\n",
            "Epoch 25/100\n",
            "\u001b[1m 68/603\u001b[0m \u001b[32m━━\u001b[0m\u001b[37m━━━━━━━━━━━━━━━━━━\u001b[0m \u001b[1m2:00\u001b[0m 225ms/step - accuracy: 0.9184 - loss: 0.2352"
          ]
        }
      ]
    },
    {
      "cell_type": "code",
      "source": [
        "import matplotlib.pyplot as plt\n",
        "\n",
        "plt.plot(history_cnn.history['loss'], label='Perte entraînement')\n",
        "plt.xlabel('Époques')\n",
        "plt.ylabel('Perte')\n",
        "plt.show()\n",
        "\n",
        "plt.plot(history_cnn.history['val_loss'], label='Perte validation')\n",
        "plt.xlabel('Époques')\n",
        "plt.ylabel('Perte')\n",
        "plt.show()"
      ],
      "metadata": {
        "id": "3WX9oa0IwcV-",
        "collapsed": true,
        "colab": {
          "base_uri": "https://localhost:8080/",
          "height": 885
        },
        "outputId": "fa5754c6-631b-481b-afa1-10f74b128603"
      },
      "execution_count": 28,
      "outputs": [
        {
          "output_type": "display_data",
          "data": {
            "text/plain": [
              "<Figure size 640x480 with 1 Axes>"
            ],
            "image/png": "[encoded data removed]"
          },
          "metadata": {}
        },
        {
          "output_type": "display_data",
          "data": {
            "text/plain": [
              "<Figure size 640x480 with 1 Axes>"
            ],
            "image/png": "[encoded data removed]"
          },
          "metadata": {}
        }
      ]
    },
    {
      "cell_type": "code",
      "source": [
        "# Courbe de précision\n",
        "plt.plot(history_cnn.history['accuracy'], label='Précision entraînement')\n",
        "plt.plot(history_cnn.history['val_accuracy'], label='Précision validation')\n",
        "plt.xlabel('Époques')\n",
        "plt.ylabel('Précision')\n",
        "plt.title('Courbe de précision')\n",
        "plt.legend()\n",
        "plt.show()\n"
      ],
      "metadata": {
        "id": "Zb9WKTJ9wgkr",
        "collapsed": true,
        "colab": {
          "base_uri": "https://localhost:8080/",
          "height": 474
        },
        "outputId": "719d3782-d235-4b09-85fd-1dd140619fc5"
      },
      "execution_count": 29,
      "outputs": [
        {
          "output_type": "display_data",
          "data": {
            "text/plain": [
              "<Figure size 640x480 with 1 Axes>"
            ],
            "image/png": "[encoded data removed]"
          },
          "metadata": {}
        }
      ]
    },
    {
      "cell_type": "code",
      "source": [
        "from tensorflow.keras.applications import VGG16\n",
        "from tensorflow.keras import layers, models\n",
        "from tensorflow.keras.applications.vgg16 import preprocess_input as preprocess_input_vgg"
      ],
      "metadata": {
        "id": "91tm4KOnBBuv"
      },
      "execution_count": 30,
      "outputs": []
    },
    {
      "cell_type": "code",
      "source": [
        "# Charger le modèle VGG16 pré-entraîné sur ImageNet\n",
        "base_model = VGG16(weights='imagenet', include_top=False, input_shape=(128, 128, 3))\n",
        "\n",
        "# Congeler les couches du modèle pré-entraîné\n",
        "base_model.trainable = False"
      ],
      "metadata": {
        "id": "JNFFyQMRBCY7",
        "colab": {
          "base_uri": "https://localhost:8080/"
        },
        "outputId": "47cd5e38-f5ce-4e74-86c5-ab921afb5359"
      },
      "execution_count": 31,
      "outputs": [
        {
          "output_type": "stream",
          "name": "stdout",
          "text": [
            "Downloading data from https://storage.googleapis.com/tensorflow/keras-applications/vgg16/vgg16_weights_tf_dim_ordering_tf_kernels_notop.h5\n",
            "\u001b[1m58889256/58889256\u001b[0m \u001b[32m━━━━━━━━━━━━━━━━━━━━\u001b[0m\u001b[37m\u001b[0m \u001b[1m0s\u001b[0m 0us/step\n"
          ]
        }
      ]
    },
    {
      "cell_type": "code",
      "source": [
        "# Ajouter les couches personnalisées pour ton problème\n",
        "vgg16_model = models.Sequential([\n",
        "    base_model,  # Modèle pré-entraîné comme base\n",
        "    layers.Flatten(),  # Aplatir les sorties du modèle\n",
        "    layers.Dense(1000, activation='relu'),\n",
        "    layers.Dense(128, activation='relu'),  # Couche fully connected\n",
        "    layers.Dropout(0.3),  # Dropout pour éviter le surapprentissage\n",
        "    layers.Dense(1, activation='sigmoid')  # Couche de sortie pour classification binaire\n",
        "])"
      ],
      "metadata": {
        "id": "WD2093PHBGRW"
      },
      "execution_count": 32,
      "outputs": []
    },
    {
      "cell_type": "code",
      "source": [
        "# Compiler le modèle\n",
        "vgg16_model.compile(\n",
        "    optimizer=keras.optimizers.Adam(learning_rate=0.0001),\n",
        "    loss='binary_crossentropy',  # Fonction de perte pour classification binaire\n",
        "    metrics=['accuracy']  # Suivre la précision\n",
        ")"
      ],
      "metadata": {
        "id": "PeKmm6nLBc9e"
      },
      "execution_count": 33,
      "outputs": []
    },
    {
      "cell_type": "code",
      "source": [
        "train_datagen_vgg = ImageDataGenerator(preprocessing_function=preprocess_input_vgg,\n",
        "                                       rotation_range=30,\n",
        "                                       width_shift_range=0.2,\n",
        "                                       height_shift_range=0.2,\n",
        "                                       zoom_range=0.2,\n",
        "                                       horizontal_flip=True,\n",
        "                                       brightness_range=[0.8, 1.2],\n",
        "                                       fill_mode='nearest')\n",
        "val_datagen_vgg = ImageDataGenerator(preprocessing_function=preprocess_input_vgg)"
      ],
      "metadata": {
        "id": "LGxj2IiNBdxT"
      },
      "execution_count": 34,
      "outputs": []
    },
    {
      "cell_type": "code",
      "source": [
        "train_data_vgg = train_datagen_vgg.flow_from_directory(\n",
        "    train_dir,\n",
        "    target_size=(128, 128),\n",
        "    batch_size=32,\n",
        "    class_mode='binary'\n",
        ")\n",
        "\n",
        "val_data_vgg = val_datagen_vgg.flow_from_directory(\n",
        "    val_dir,\n",
        "    target_size=(128, 128),\n",
        "    batch_size=32,\n",
        "    class_mode='binary'\n",
        ")\n"
      ],
      "metadata": {
        "id": "Aa99H4XSBheB",
        "colab": {
          "base_uri": "https://localhost:8080/"
        },
        "outputId": "07c6f7c7-59c6-4ed4-bb2c-9e78dd07c18b"
      },
      "execution_count": 35,
      "outputs": [
        {
          "output_type": "stream",
          "name": "stdout",
          "text": [
            "Found 19290 images belonging to 2 classes.\n",
            "Found 4132 images belonging to 2 classes.\n"
          ]
        }
      ]
    },
    {
      "cell_type": "code",
      "source": [
        "# Entraîner le modèle\n",
        "history_vgg = vgg16_model.fit(\n",
        "    train_data_vgg,\n",
        "    validation_data=val_data_vgg,\n",
        "    epochs=30,  # Peut être augmenté si nécessaire\n",
        "    validation_steps=val_data.samples // val_data.batch_size,\n",
        "    callbacks=[lr_decay, early_stopping]\n",
        ")"
      ],
      "metadata": {
        "id": "Qfm14BAKBmLd",
        "colab": {
          "base_uri": "https://localhost:8080/"
        },
        "outputId": "cb129642-a62b-4e99-ee32-c9d2a34e520e"
      },
      "execution_count": null,
      "outputs": [
        {
          "output_type": "stream",
          "name": "stdout",
          "text": [
            "Epoch 1/30\n",
            "\u001b[1m603/603\u001b[0m \u001b[32m━━━━━━━━━━━━━━━━━━━━\u001b[0m\u001b[37m\u001b[0m \u001b[1m137s\u001b[0m 214ms/step - accuracy: 0.8073 - loss: 1.1746 - val_accuracy: 0.9210 - val_loss: 0.1986 - learning_rate: 1.0000e-04\n",
            "Epoch 2/30\n",
            "\u001b[1m603/603\u001b[0m \u001b[32m━━━━━━━━━━━━━━━━━━━━\u001b[0m\u001b[37m\u001b[0m \u001b[1m141s\u001b[0m 223ms/step - accuracy: 0.9008 - loss: 0.2609 - val_accuracy: 0.9251 - val_loss: 0.1915 - learning_rate: 1.0000e-04\n",
            "Epoch 3/30\n",
            "\u001b[1m603/603\u001b[0m \u001b[32m━━━━━━━━━━━━━━━━━━━━\u001b[0m\u001b[37m\u001b[0m \u001b[1m122s\u001b[0m 203ms/step - accuracy: 0.9172 - loss: 0.2305 - val_accuracy: 0.9106 - val_loss: 0.2182 - learning_rate: 1.0000e-04\n",
            "Epoch 4/30\n",
            "\u001b[1m603/603\u001b[0m \u001b[32m━━━━━━━━━━━━━━━━━━━━\u001b[0m\u001b[37m\u001b[0m \u001b[1m122s\u001b[0m 202ms/step - accuracy: 0.9229 - loss: 0.2129 - val_accuracy: 0.9239 - val_loss: 0.1834 - learning_rate: 9.0484e-05\n",
            "Epoch 5/30\n",
            "\u001b[1m603/603\u001b[0m \u001b[32m━━━━━━━━━━━━━━━━━━━━\u001b[0m\u001b[37m\u001b[0m \u001b[1m123s\u001b[0m 203ms/step - accuracy: 0.9267 - loss: 0.2086 - val_accuracy: 0.9285 - val_loss: 0.1929 - learning_rate: 8.1873e-05\n",
            "Epoch 6/30\n",
            "\u001b[1m603/603\u001b[0m \u001b[32m━━━━━━━━━━━━━━━━━━━━\u001b[0m\u001b[37m\u001b[0m \u001b[1m142s\u001b[0m 236ms/step - accuracy: 0.9243 - loss: 0.2053 - val_accuracy: 0.9218 - val_loss: 0.1906 - learning_rate: 7.4082e-05\n",
            "Epoch 7/30\n",
            "\u001b[1m603/603\u001b[0m \u001b[32m━━━━━━━━━━━━━━━━━━━━\u001b[0m\u001b[37m\u001b[0m \u001b[1m121s\u001b[0m 201ms/step - accuracy: 0.9241 - loss: 0.2051 - val_accuracy: 0.9295 - val_loss: 0.1778 - learning_rate: 6.7032e-05\n",
            "Epoch 8/30\n",
            "\u001b[1m603/603\u001b[0m \u001b[32m━━━━━━━━━━━━━━━━━━━━\u001b[0m\u001b[37m\u001b[0m \u001b[1m122s\u001b[0m 202ms/step - accuracy: 0.9303 - loss: 0.1983 - val_accuracy: 0.9203 - val_loss: 0.2024 - learning_rate: 6.0653e-05\n",
            "Epoch 9/30\n",
            "\u001b[1m603/603\u001b[0m \u001b[32m━━━━━━━━━━━━━━━━━━━━\u001b[0m\u001b[37m\u001b[0m \u001b[1m123s\u001b[0m 204ms/step - accuracy: 0.9336 - loss: 0.1885 - val_accuracy: 0.9155 - val_loss: 0.2155 - learning_rate: 5.4881e-05\n",
            "Epoch 10/30\n",
            "\u001b[1m603/603\u001b[0m \u001b[32m━━━━━━━━━━━━━━━━━━━━\u001b[0m\u001b[37m\u001b[0m \u001b[1m122s\u001b[0m 203ms/step - accuracy: 0.9270 - loss: 0.2060 - val_accuracy: 0.9213 - val_loss: 0.2000 - learning_rate: 4.9659e-05\n",
            "Epoch 11/30\n",
            "\u001b[1m603/603\u001b[0m \u001b[32m━━━━━━━━━━━━━━━━━━━━\u001b[0m\u001b[37m\u001b[0m \u001b[1m127s\u001b[0m 211ms/step - accuracy: 0.9308 - loss: 0.1865 - val_accuracy: 0.9341 - val_loss: 0.1655 - learning_rate: 4.4933e-05\n",
            "Epoch 12/30\n",
            "\u001b[1m603/603\u001b[0m \u001b[32m━━━━━━━━━━━━━━━━━━━━\u001b[0m\u001b[37m\u001b[0m \u001b[1m142s\u001b[0m 211ms/step - accuracy: 0.9274 - loss: 0.1966 - val_accuracy: 0.9351 - val_loss: 0.1656 - learning_rate: 4.0657e-05\n",
            "Epoch 13/30\n",
            "\u001b[1m603/603\u001b[0m \u001b[32m━━━━━━━━━━━━━━━━━━━━\u001b[0m\u001b[37m\u001b[0m \u001b[1m126s\u001b[0m 209ms/step - accuracy: 0.9309 - loss: 0.1911 - val_accuracy: 0.9249 - val_loss: 0.1912 - learning_rate: 3.6788e-05\n",
            "Epoch 14/30\n",
            "\u001b[1m603/603\u001b[0m \u001b[32m━━━━━━━━━━━━━━━━━━━━\u001b[0m\u001b[37m\u001b[0m \u001b[1m126s\u001b[0m 210ms/step - accuracy: 0.9311 - loss: 0.1921 - val_accuracy: 0.9375 - val_loss: 0.1606 - learning_rate: 3.3287e-05\n",
            "Epoch 15/30\n",
            "\u001b[1m603/603\u001b[0m \u001b[32m━━━━━━━━━━━━━━━━━━━━\u001b[0m\u001b[37m\u001b[0m \u001b[1m142s\u001b[0m 235ms/step - accuracy: 0.9385 - loss: 0.1735 - val_accuracy: 0.9344 - val_loss: 0.1597 - learning_rate: 3.0119e-05\n",
            "Epoch 16/30\n",
            "\u001b[1m603/603\u001b[0m \u001b[32m━━━━━━━━━━━━━━━━━━━━\u001b[0m\u001b[37m\u001b[0m \u001b[1m127s\u001b[0m 210ms/step - accuracy: 0.9385 - loss: 0.1800 - val_accuracy: 0.9348 - val_loss: 0.1673 - learning_rate: 2.7253e-05\n",
            "Epoch 17/30\n",
            "\u001b[1m603/603\u001b[0m \u001b[32m━━━━━━━━━━━━━━━━━━━━\u001b[0m\u001b[37m\u001b[0m \u001b[1m139s\u001b[0m 206ms/step - accuracy: 0.9372 - loss: 0.1742 - val_accuracy: 0.9368 - val_loss: 0.1595 - learning_rate: 2.4660e-05\n",
            "Epoch 18/30\n",
            "\u001b[1m603/603\u001b[0m \u001b[32m━━━━━━━━━━━━━━━━━━━━\u001b[0m\u001b[37m\u001b[0m \u001b[1m142s\u001b[0m 235ms/step - accuracy: 0.9372 - loss: 0.1768 - val_accuracy: 0.9385 - val_loss: 0.1600 - learning_rate: 2.2313e-05\n",
            "Epoch 19/30\n",
            "\u001b[1m603/603\u001b[0m \u001b[32m━━━━━━━━━━━━━━━━━━━━\u001b[0m\u001b[37m\u001b[0m \u001b[1m123s\u001b[0m 205ms/step - accuracy: 0.9369 - loss: 0.1715 - val_accuracy: 0.9373 - val_loss: 0.1584 - learning_rate: 2.0190e-05\n",
            "Epoch 20/30\n",
            "\u001b[1m603/603\u001b[0m \u001b[32m━━━━━━━━━━━━━━━━━━━━\u001b[0m\u001b[37m\u001b[0m \u001b[1m126s\u001b[0m 209ms/step - accuracy: 0.9338 - loss: 0.1783 - val_accuracy: 0.9363 - val_loss: 0.1597 - learning_rate: 1.8268e-05\n",
            "Epoch 21/30\n",
            "\u001b[1m521/603\u001b[0m \u001b[32m━━━━━━━━━━━━━━━━━\u001b[0m\u001b[37m━━━\u001b[0m \u001b[1m15s\u001b[0m 190ms/step - accuracy: 0.9380 - loss: 0.1753"
          ]
        }
      ]
    },
    {
      "cell_type": "code",
      "source": [
        "vgg16_model.summary()"
      ],
      "metadata": {
        "id": "KhSPskUXgThG"
      },
      "execution_count": null,
      "outputs": []
    },
    {
      "cell_type": "code",
      "source": [
        "from tensorflow.keras.applications import ResNet50\n",
        "from tensorflow.keras.applications.resnet50 import preprocess_input as preprocess_input_res"
      ],
      "metadata": {
        "id": "CQ0tJIqV0DPY"
      },
      "execution_count": null,
      "outputs": []
    },
    {
      "cell_type": "code",
      "source": [
        "# Charger ResNet50 pré-entraîné\n",
        "base_model = ResNet50(weights='imagenet', include_top=False, input_shape=(128, 128, 3))\n",
        "\n",
        "# Geler les couches pré-entraînées\n",
        "base_model.trainable = False"
      ],
      "metadata": {
        "id": "FzLwchsc0tZd"
      },
      "execution_count": null,
      "outputs": []
    },
    {
      "cell_type": "code",
      "source": [
        "resnet50_model = models.Sequential([\n",
        "    base_model,\n",
        "    layers.GlobalAveragePooling2D(),  # Remplace Flatten pour mieux gérer la spatialité des features\n",
        "    layers.Dense(1000, activation='relu'),\n",
        "    layers.Dense(128, activation='relu'),  # Couche fully connected\n",
        "    layers.Dropout(0.3),  # Dropout pour éviter l'overfitting\n",
        "    layers.Dense(1, activation='sigmoid')  # Couche de sortie pour classification binaire\n",
        "])"
      ],
      "metadata": {
        "id": "V1E2W5nW0035"
      },
      "execution_count": null,
      "outputs": []
    },
    {
      "cell_type": "code",
      "source": [
        "resnet50_model.compile(\n",
        "    optimizer=keras.optimizers.Adam(learning_rate=0.0001),\n",
        "    loss='binary_crossentropy',\n",
        "    metrics=['accuracy']\n",
        ")"
      ],
      "metadata": {
        "id": "IobQq_re03t_"
      },
      "execution_count": null,
      "outputs": []
    },
    {
      "cell_type": "code",
      "source": [
        "train_datagen_res = ImageDataGenerator(preprocessing_function=preprocess_input_res,\n",
        "                                       rotation_range=30,\n",
        "                                       width_shift_range=0.2,\n",
        "                                       height_shift_range=0.2,\n",
        "                                       zoom_range=0.2,\n",
        "                                       horizontal_flip=True,\n",
        "                                       brightness_range=[0.8, 1.2],\n",
        "                                       fill_mode='nearest')\n",
        "val_datagen_res = ImageDataGenerator(preprocessing_function=preprocess_input_res)\n",
        "\n",
        "train_data_res = train_datagen_res.flow_from_directory(\n",
        "    train_dir,\n",
        "    target_size=(128, 128),\n",
        "    batch_size=32,\n",
        "    class_mode='binary'\n",
        ")\n",
        "\n",
        "val_data_res = val_datagen_res.flow_from_directory(\n",
        "    val_dir,\n",
        "    target_size=(128, 128),\n",
        "    batch_size=32,\n",
        "    class_mode='binary'\n",
        ")"
      ],
      "metadata": {
        "id": "4wYcw1_u1Bn4"
      },
      "execution_count": null,
      "outputs": []
    },
    {
      "cell_type": "code",
      "source": [
        "history_res = resnet50_model.fit(\n",
        "    train_data_res,\n",
        "    validation_data=val_data_res,\n",
        "    epochs=30,\n",
        "    validation_steps=val_data_res.samples // val_data_res.batch_size,\n",
        "    callbacks=[lr_decay, early_stopping]\n",
        ")"
      ],
      "metadata": {
        "id": "7geWRsn-1MDP"
      },
      "execution_count": null,
      "outputs": []
    },
    {
      "cell_type": "code",
      "source": [
        "# Sauvegarder les poids des modèles entraînés\n",
        "mon_premier_cnn.save_weights(\"model_from_scratch.weights.h5\")\n",
        "vgg16_model.save_weights(\"model_vgg16.weights.h5\")\n",
        "resnet50_model.save_weights(\"model_resnet50.weights.h5\")"
      ],
      "metadata": {
        "id": "cDBz6YjQ1zX1"
      },
      "execution_count": null,
      "outputs": []
    },
    {
      "cell_type": "code",
      "source": [
        "mon_premier_cnn.load_weights(\"model_from_scratch.weights.h5\")\n",
        "vgg16_model.load_weights(\"model_vgg16.weights.h5\")\n",
        "resnet50_model.load_weights(\"model_resnet50.weights.h5\")"
      ],
      "metadata": {
        "id": "bZi_2dLGY0TU"
      },
      "execution_count": null,
      "outputs": []
    },
    {
      "cell_type": "code",
      "source": [
        "import numpy as np\n",
        "\n",
        "# Initialiser les listes pour stocker les vrais labels et les prédictions\n",
        "y_true = []\n",
        "y_pred_scratch = []\n",
        "y_pred_vgg16 = []\n",
        "y_pred_resnet50 = []\n",
        "\n",
        "# Parcourir le dataset de test batch par batch\n",
        "for batch_images, batch_labels in test_data:\n",
        "    y_true.extend(batch_labels)  # Ajouter les vrais labels\n",
        "\n",
        "    # Générer les prédictions pour chaque modèle\n",
        "    y_pred_scratch.extend(mon_premier_cnn.predict(batch_images).ravel())\n",
        "    y_pred_vgg16.extend(vgg16_model.predict(batch_images).ravel())\n",
        "    y_pred_resnet50.extend(resnet50_model.predict(batch_images).ravel())\n",
        "\n",
        "    # Arrêter la boucle après avoir traité toutes les images\n",
        "    if len(y_true) >= test_data.samples:\n",
        "        break\n",
        "\n",
        "# Convertir les listes en tableaux numpy\n",
        "y_true = np.array(y_true)\n",
        "y_pred_scratch = np.array(y_pred_scratch)\n",
        "y_pred_vgg16 = np.array(y_pred_vgg16)\n",
        "y_pred_resnet50 = np.array(y_pred_resnet50)\n",
        "\n",
        "# Vérifier que les valeurs sont correctes\n",
        "print(f\"Vérification des valeurs min/max des prédictions Scratch : {y_pred_scratch.min()} - {y_pred_scratch.max()}\")\n",
        "print(f\"Vérification des valeurs min/max des prédictions VGG16 : {y_pred_vgg16.min()} - {y_pred_vgg16.max()}\")\n",
        "print(f\"Vérification des valeurs min/max des prédictions ResNet50 : {y_pred_resnet50.min()} - {y_pred_resnet50.max()}\")\n",
        "print(f\"Vérification des labels : {np.unique(y_true)}\")  # Doit être [0, 1]\n",
        "\n"
      ],
      "metadata": {
        "id": "FUSpe2xCjqDE"
      },
      "execution_count": null,
      "outputs": []
    },
    {
      "cell_type": "code",
      "source": [
        "from sklearn.metrics import roc_curve, auc\n",
        "import matplotlib.pyplot as plt\n",
        "\n",
        "# Calcul des courbes ROC\n",
        "fpr_scratch, tpr_scratch, _ = roc_curve(y_true, y_pred_scratch)\n",
        "fpr_vgg16, tpr_vgg16, _ = roc_curve(y_true, y_pred_vgg16)\n",
        "fpr_resnet50, tpr_resnet50, _ = roc_curve(y_true, y_pred_resnet50)\n",
        "\n",
        "# Calcul des AUC\n",
        "auc_scratch = auc(fpr_scratch, tpr_scratch)\n",
        "auc_vgg16 = auc(fpr_vgg16, tpr_vgg16)\n",
        "auc_resnet50 = auc(fpr_resnet50, tpr_resnet50)\n",
        "\n",
        "# Tracer la courbe ROC\n",
        "plt.figure(figsize=(8, 6))\n",
        "plt.plot(fpr_scratch, tpr_scratch, label=f\"From Scratch (AUC = {auc_scratch:.2f})\", linestyle='--')\n",
        "plt.plot(fpr_vgg16, tpr_vgg16, label=f\"VGG16 (AUC = {auc_vgg16:.2f})\", linestyle='-.')\n",
        "plt.plot(fpr_resnet50, tpr_resnet50, label=f\"ResNet50 (AUC = {auc_resnet50:.2f})\", linestyle='-')\n",
        "\n",
        "# Ajouter labels et légende\n",
        "plt.xlabel(\"False Positive Rate\")\n",
        "plt.ylabel(\"True Positive Rate\")\n",
        "plt.title(\"Courbes ROC des modèles\")\n",
        "plt.legend()\n",
        "plt.grid()\n",
        "plt.show()\n",
        "\n",
        "# Affichage des valeurs AUC\n",
        "print(f\"AUC From Scratch: {auc_scratch:.2f}\")\n",
        "print(f\"AUC VGG16: {auc_vgg16:.2f}\")\n",
        "print(f\"AUC ResNet50: {auc_resnet50:.2f}\")"
      ],
      "metadata": {
        "id": "sENdX76IkTuD"
      },
      "execution_count": null,
      "outputs": []
    },
    {
      "cell_type": "code",
      "source": [
        "from sklearn.metrics import confusion_matrix\n",
        "\n",
        "# Convertir les prédictions en classes binaires (0 ou 1) avec un seuil de 0.5\n",
        "y_pred_scratch_bin = (y_pred_scratch >= 0.5).astype(int)\n",
        "y_pred_vgg16_bin = (y_pred_vgg16 >= 0.5).astype(int)\n",
        "y_pred_resnet50_bin = (y_pred_resnet50 >= 0.5).astype(int)\n",
        "\n",
        "# Calcul des matrices de confusion\n",
        "cm_scratch = confusion_matrix(y_true, y_pred_scratch_bin)\n",
        "cm_vgg16 = confusion_matrix(y_true, y_pred_vgg16_bin)\n",
        "cm_resnet50 = confusion_matrix(y_true, y_pred_resnet50_bin)\n",
        "\n",
        "# Affichage des matrices de confusion\n",
        "print(\"Matrice de Confusion - Scratch Model :\\n\", cm_scratch)\n",
        "print(\"Matrice de Confusion - VGG16 :\\n\", cm_vgg16)\n",
        "print(\"Matrice de Confusion - ResNet50 :\\n\", cm_resnet50)\n"
      ],
      "metadata": {
        "id": "vX7afBnL-wVo"
      },
      "execution_count": null,
      "outputs": []
    },
    {
      "cell_type": "code",
      "source": [
        "from sklearn.metrics import accuracy_score, precision_score, recall_score, f1_score\n",
        "\n",
        "def calculer_metrics(y_true, y_pred_bin, model_name):\n",
        "    accuracy = accuracy_score(y_true, y_pred_bin)\n",
        "    precision = precision_score(y_true, y_pred_bin)\n",
        "    recall = recall_score(y_true, y_pred_bin)\n",
        "    f1 = f1_score(y_true, y_pred_bin)\n",
        "\n",
        "    # Calcul de la sensibilité et spécificité\n",
        "    tn, fp, fn, tp = confusion_matrix(y_true, y_pred_bin).ravel()\n",
        "    sensibilite = tp / (tp + fn)  # Sensibilité = Recall\n",
        "    specificite = tn / (tn + fp)  # Spécificité\n",
        "\n",
        "    # Affichage des métriques\n",
        "    print(f\"📊 {model_name} :\")\n",
        "    print(f\"   Accuracy : {accuracy:.4f}\")\n",
        "    print(f\"   Precision : {precision:.4f}\")\n",
        "    print(f\"   Recall / Sensibilité : {recall:.4f}\")\n",
        "    print(f\"   F1-Score : {f1:.4f}\")\n",
        "    print(f\"   Spécificité : {specificite:.4f}\\n\")\n",
        "\n",
        "# Calcul des métriques pour chaque modèle\n",
        "calculer_metrics(y_true, y_pred_scratch_bin, \"From Scratch\")\n",
        "calculer_metrics(y_true, y_pred_vgg16_bin, \"VGG16\")\n",
        "calculer_metrics(y_true, y_pred_resnet50_bin, \"ResNet50\")"
      ],
      "metadata": {
        "id": "0BPaOupQ-yF2"
      },
      "execution_count": null,
      "outputs": []
    }
  ]
}